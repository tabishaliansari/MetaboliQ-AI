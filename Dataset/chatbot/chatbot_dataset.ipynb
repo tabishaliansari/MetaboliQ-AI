{
 "cells": [
  {
   "cell_type": "markdown",
   "id": "7de00920-48c5-4cac-8a22-d6f87e4d1fa2",
   "metadata": {},
   "source": [
    "# Data Wrangling for chatbot's dataset"
   ]
  },
  {
   "cell_type": "code",
   "execution_count": 1,
   "id": "7bf7c8c4-a3a9-4633-a06f-a2f8b945531b",
   "metadata": {},
   "outputs": [],
   "source": [
    "import pandas as pd"
   ]
  },
  {
   "cell_type": "code",
   "execution_count": 2,
   "id": "053b7987-c076-41dc-895e-0fcbef278619",
   "metadata": {},
   "outputs": [],
   "source": [
    "data1 = pd.read_csv(\"chatbot2.csv\")\n",
    "data2 = pd.read_csv(\"chatbot3.csv\")"
   ]
  },
  {
   "cell_type": "code",
   "execution_count": 3,
   "id": "19674b10-7928-4100-90d2-cdfae8a44bed",
   "metadata": {},
   "outputs": [
    {
     "data": {
      "text/html": [
       "<div>\n",
       "<style scoped>\n",
       "    .dataframe tbody tr th:only-of-type {\n",
       "        vertical-align: middle;\n",
       "    }\n",
       "\n",
       "    .dataframe tbody tr th {\n",
       "        vertical-align: top;\n",
       "    }\n",
       "\n",
       "    .dataframe thead th {\n",
       "        text-align: right;\n",
       "    }\n",
       "</style>\n",
       "<table border=\"1\" class=\"dataframe\">\n",
       "  <thead>\n",
       "    <tr style=\"text-align: right;\">\n",
       "      <th></th>\n",
       "      <th>Unnamed: 0</th>\n",
       "      <th>text</th>\n",
       "    </tr>\n",
       "  </thead>\n",
       "  <tbody>\n",
       "    <tr>\n",
       "      <th>0</th>\n",
       "      <td>0</td>\n",
       "      <td>&lt;s&gt;[INST] What is diabetes mellitus? [/INST] D...</td>\n",
       "    </tr>\n",
       "    <tr>\n",
       "      <th>1</th>\n",
       "      <td>1</td>\n",
       "      <td>&lt;s&gt;[INST] What are the classic symptoms of dia...</td>\n",
       "    </tr>\n",
       "    <tr>\n",
       "      <th>2</th>\n",
       "      <td>2</td>\n",
       "      <td>&lt;s&gt;[INST] What are the major types of diabetes...</td>\n",
       "    </tr>\n",
       "    <tr>\n",
       "      <th>3</th>\n",
       "      <td>3</td>\n",
       "      <td>&lt;s&gt;[INST] What are the long-term complications...</td>\n",
       "    </tr>\n",
       "    <tr>\n",
       "      <th>4</th>\n",
       "      <td>4</td>\n",
       "      <td>&lt;s&gt;[INST] How is diabetes treated? [/INST] Typ...</td>\n",
       "    </tr>\n",
       "  </tbody>\n",
       "</table>\n",
       "</div>"
      ],
      "text/plain": [
       "   Unnamed: 0                                               text\n",
       "0           0  <s>[INST] What is diabetes mellitus? [/INST] D...\n",
       "1           1  <s>[INST] What are the classic symptoms of dia...\n",
       "2           2  <s>[INST] What are the major types of diabetes...\n",
       "3           3  <s>[INST] What are the long-term complications...\n",
       "4           4  <s>[INST] How is diabetes treated? [/INST] Typ..."
      ]
     },
     "execution_count": 3,
     "metadata": {},
     "output_type": "execute_result"
    }
   ],
   "source": [
    "data1.head()"
   ]
  },
  {
   "cell_type": "code",
   "execution_count": 4,
   "id": "b031d1c3-ec8e-4e64-839c-d1e97cb575af",
   "metadata": {},
   "outputs": [
    {
     "data": {
      "text/html": [
       "<div>\n",
       "<style scoped>\n",
       "    .dataframe tbody tr th:only-of-type {\n",
       "        vertical-align: middle;\n",
       "    }\n",
       "\n",
       "    .dataframe tbody tr th {\n",
       "        vertical-align: top;\n",
       "    }\n",
       "\n",
       "    .dataframe thead th {\n",
       "        text-align: right;\n",
       "    }\n",
       "</style>\n",
       "<table border=\"1\" class=\"dataframe\">\n",
       "  <thead>\n",
       "    <tr style=\"text-align: right;\">\n",
       "      <th></th>\n",
       "      <th>Unnamed: 0</th>\n",
       "      <th>question</th>\n",
       "      <th>answer</th>\n",
       "    </tr>\n",
       "  </thead>\n",
       "  <tbody>\n",
       "    <tr>\n",
       "      <th>0</th>\n",
       "      <td>0</td>\n",
       "      <td>What are some examples of calorie-free, caffei...</td>\n",
       "      <td>Examples of calorie-free, caffeine-free liquid...</td>\n",
       "    </tr>\n",
       "    <tr>\n",
       "      <th>1</th>\n",
       "      <td>1</td>\n",
       "      <td>Why is it important for individuals with diabe...</td>\n",
       "      <td>Staying hydrated is crucial for regulating blo...</td>\n",
       "    </tr>\n",
       "    <tr>\n",
       "      <th>2</th>\n",
       "      <td>2</td>\n",
       "      <td>What type of gelatin is recommended for indivi...</td>\n",
       "      <td>Individuals with diabetes should choose gelati...</td>\n",
       "    </tr>\n",
       "    <tr>\n",
       "      <th>3</th>\n",
       "      <td>3</td>\n",
       "      <td>In what situations should an individual with d...</td>\n",
       "      <td>Individuals with diabetes should contact their...</td>\n",
       "    </tr>\n",
       "    <tr>\n",
       "      <th>4</th>\n",
       "      <td>4</td>\n",
       "      <td>Why is it important for individuals with diabe...</td>\n",
       "      <td>Wearing medical identification alerts others t...</td>\n",
       "    </tr>\n",
       "  </tbody>\n",
       "</table>\n",
       "</div>"
      ],
      "text/plain": [
       "   Unnamed: 0                                           question  \\\n",
       "0           0  What are some examples of calorie-free, caffei...   \n",
       "1           1  Why is it important for individuals with diabe...   \n",
       "2           2  What type of gelatin is recommended for indivi...   \n",
       "3           3  In what situations should an individual with d...   \n",
       "4           4  Why is it important for individuals with diabe...   \n",
       "\n",
       "                                              answer  \n",
       "0  Examples of calorie-free, caffeine-free liquid...  \n",
       "1  Staying hydrated is crucial for regulating blo...  \n",
       "2  Individuals with diabetes should choose gelati...  \n",
       "3  Individuals with diabetes should contact their...  \n",
       "4  Wearing medical identification alerts others t...  "
      ]
     },
     "execution_count": 4,
     "metadata": {},
     "output_type": "execute_result"
    }
   ],
   "source": [
    "data2.head()"
   ]
  },
  {
   "cell_type": "code",
   "execution_count": 5,
   "id": "b9b63524-46db-4e0b-8c2a-0015060425cf",
   "metadata": {},
   "outputs": [],
   "source": [
    "data1 = data1[[\"text\"]]"
   ]
  },
  {
   "cell_type": "code",
   "execution_count": 6,
   "id": "59912053-3482-48c4-b59f-7d3496d63af2",
   "metadata": {},
   "outputs": [
    {
     "data": {
      "text/html": [
       "<div>\n",
       "<style scoped>\n",
       "    .dataframe tbody tr th:only-of-type {\n",
       "        vertical-align: middle;\n",
       "    }\n",
       "\n",
       "    .dataframe tbody tr th {\n",
       "        vertical-align: top;\n",
       "    }\n",
       "\n",
       "    .dataframe thead th {\n",
       "        text-align: right;\n",
       "    }\n",
       "</style>\n",
       "<table border=\"1\" class=\"dataframe\">\n",
       "  <thead>\n",
       "    <tr style=\"text-align: right;\">\n",
       "      <th></th>\n",
       "      <th>text</th>\n",
       "    </tr>\n",
       "  </thead>\n",
       "  <tbody>\n",
       "    <tr>\n",
       "      <th>0</th>\n",
       "      <td>&lt;s&gt;[INST] What is diabetes mellitus? [/INST] D...</td>\n",
       "    </tr>\n",
       "    <tr>\n",
       "      <th>1</th>\n",
       "      <td>&lt;s&gt;[INST] What are the classic symptoms of dia...</td>\n",
       "    </tr>\n",
       "    <tr>\n",
       "      <th>2</th>\n",
       "      <td>&lt;s&gt;[INST] What are the major types of diabetes...</td>\n",
       "    </tr>\n",
       "    <tr>\n",
       "      <th>3</th>\n",
       "      <td>&lt;s&gt;[INST] What are the long-term complications...</td>\n",
       "    </tr>\n",
       "    <tr>\n",
       "      <th>4</th>\n",
       "      <td>&lt;s&gt;[INST] How is diabetes treated? [/INST] Typ...</td>\n",
       "    </tr>\n",
       "  </tbody>\n",
       "</table>\n",
       "</div>"
      ],
      "text/plain": [
       "                                                text\n",
       "0  <s>[INST] What is diabetes mellitus? [/INST] D...\n",
       "1  <s>[INST] What are the classic symptoms of dia...\n",
       "2  <s>[INST] What are the major types of diabetes...\n",
       "3  <s>[INST] What are the long-term complications...\n",
       "4  <s>[INST] How is diabetes treated? [/INST] Typ..."
      ]
     },
     "execution_count": 6,
     "metadata": {},
     "output_type": "execute_result"
    }
   ],
   "source": [
    "data1.head()"
   ]
  },
  {
   "cell_type": "code",
   "execution_count": 7,
   "id": "c62fcb63-aec0-41d7-ae9b-d5205fdb466c",
   "metadata": {},
   "outputs": [],
   "source": [
    "data2 = data2[[\"question\", \"answer\"]]"
   ]
  },
  {
   "cell_type": "code",
   "execution_count": 8,
   "id": "95bdb0df-2112-4a18-a2a8-9864121d2483",
   "metadata": {},
   "outputs": [
    {
     "data": {
      "text/html": [
       "<div>\n",
       "<style scoped>\n",
       "    .dataframe tbody tr th:only-of-type {\n",
       "        vertical-align: middle;\n",
       "    }\n",
       "\n",
       "    .dataframe tbody tr th {\n",
       "        vertical-align: top;\n",
       "    }\n",
       "\n",
       "    .dataframe thead th {\n",
       "        text-align: right;\n",
       "    }\n",
       "</style>\n",
       "<table border=\"1\" class=\"dataframe\">\n",
       "  <thead>\n",
       "    <tr style=\"text-align: right;\">\n",
       "      <th></th>\n",
       "      <th>question</th>\n",
       "      <th>answer</th>\n",
       "    </tr>\n",
       "  </thead>\n",
       "  <tbody>\n",
       "    <tr>\n",
       "      <th>0</th>\n",
       "      <td>What are some examples of calorie-free, caffei...</td>\n",
       "      <td>Examples of calorie-free, caffeine-free liquid...</td>\n",
       "    </tr>\n",
       "    <tr>\n",
       "      <th>1</th>\n",
       "      <td>Why is it important for individuals with diabe...</td>\n",
       "      <td>Staying hydrated is crucial for regulating blo...</td>\n",
       "    </tr>\n",
       "    <tr>\n",
       "      <th>2</th>\n",
       "      <td>What type of gelatin is recommended for indivi...</td>\n",
       "      <td>Individuals with diabetes should choose gelati...</td>\n",
       "    </tr>\n",
       "    <tr>\n",
       "      <th>3</th>\n",
       "      <td>In what situations should an individual with d...</td>\n",
       "      <td>Individuals with diabetes should contact their...</td>\n",
       "    </tr>\n",
       "    <tr>\n",
       "      <th>4</th>\n",
       "      <td>Why is it important for individuals with diabe...</td>\n",
       "      <td>Wearing medical identification alerts others t...</td>\n",
       "    </tr>\n",
       "  </tbody>\n",
       "</table>\n",
       "</div>"
      ],
      "text/plain": [
       "                                            question  \\\n",
       "0  What are some examples of calorie-free, caffei...   \n",
       "1  Why is it important for individuals with diabe...   \n",
       "2  What type of gelatin is recommended for indivi...   \n",
       "3  In what situations should an individual with d...   \n",
       "4  Why is it important for individuals with diabe...   \n",
       "\n",
       "                                              answer  \n",
       "0  Examples of calorie-free, caffeine-free liquid...  \n",
       "1  Staying hydrated is crucial for regulating blo...  \n",
       "2  Individuals with diabetes should choose gelati...  \n",
       "3  Individuals with diabetes should contact their...  \n",
       "4  Wearing medical identification alerts others t...  "
      ]
     },
     "execution_count": 8,
     "metadata": {},
     "output_type": "execute_result"
    }
   ],
   "source": [
    "data2.head()"
   ]
  },
  {
   "cell_type": "code",
   "execution_count": 9,
   "id": "55df658d-8723-43d8-9974-d94518b0f6cb",
   "metadata": {},
   "outputs": [],
   "source": [
    "data2[\"final\"] = data2[\"question\"] + \":\" + data2[\"answer\"]"
   ]
  },
  {
   "cell_type": "code",
   "execution_count": 10,
   "id": "ba0671c7-cd1b-4156-b0ef-a63106145ea1",
   "metadata": {},
   "outputs": [
    {
     "data": {
      "text/plain": [
       "'What are some examples of calorie-free, caffeine-free liquids that individuals with diabetes can consume when sick?:Examples of calorie-free, caffeine-free liquids include water, unsweetened tea, and clear broth.'"
      ]
     },
     "execution_count": 10,
     "metadata": {},
     "output_type": "execute_result"
    }
   ],
   "source": [
    "data2[\"final\"].iloc[0]"
   ]
  },
  {
   "cell_type": "code",
   "execution_count": 11,
   "id": "13b4e52b-b8b5-4aee-972c-1ae7a9155f35",
   "metadata": {},
   "outputs": [
    {
     "data": {
      "text/plain": [
       "'<s>[INST] What is diabetes mellitus? [/INST] Diabetes mellitus, often known simply as diabetes, is a group of common endocrine diseases characterized by sustained high blood sugar levels. </s>'"
      ]
     },
     "execution_count": 11,
     "metadata": {},
     "output_type": "execute_result"
    }
   ],
   "source": [
    "data1[\"text\"].iloc[0]"
   ]
  },
  {
   "cell_type": "code",
   "execution_count": 12,
   "id": "a8ec3c56-36f9-4b8b-ba23-b372f63834d7",
   "metadata": {},
   "outputs": [],
   "source": [
    "import re\n",
    "\n",
    "def format_question_answer(text):\n",
    "    \"\"\"\n",
    "    Remove unnecessary tags and format text as 'question:answer'.\n",
    "    \"\"\"\n",
    "    # Extract the question using regex\n",
    "    question = re.search(r\"\\[INST\\](.*?)\\[/INST\\]\", text)\n",
    "    question = question.group(1).strip() if question else \"\"\n",
    "    \n",
    "    # Extract the answer using regex\n",
    "    answer = re.search(r\"\\[/INST\\](.*?)</s>\", text)\n",
    "    answer = answer.group(1).strip() if answer else \"\"\n",
    "    \n",
    "    # Return formatted string\n",
    "    return f\"{question}:{answer}\""
   ]
  },
  {
   "cell_type": "code",
   "execution_count": 13,
   "id": "fbffe1c1-f164-4107-a7d7-500c4025a12b",
   "metadata": {},
   "outputs": [
    {
     "data": {
      "text/html": [
       "<div>\n",
       "<style scoped>\n",
       "    .dataframe tbody tr th:only-of-type {\n",
       "        vertical-align: middle;\n",
       "    }\n",
       "\n",
       "    .dataframe tbody tr th {\n",
       "        vertical-align: top;\n",
       "    }\n",
       "\n",
       "    .dataframe thead th {\n",
       "        text-align: right;\n",
       "    }\n",
       "</style>\n",
       "<table border=\"1\" class=\"dataframe\">\n",
       "  <thead>\n",
       "    <tr style=\"text-align: right;\">\n",
       "      <th></th>\n",
       "      <th>text</th>\n",
       "      <th>final</th>\n",
       "    </tr>\n",
       "  </thead>\n",
       "  <tbody>\n",
       "    <tr>\n",
       "      <th>0</th>\n",
       "      <td>&lt;s&gt;[INST] What is diabetes mellitus? [/INST] D...</td>\n",
       "      <td>What is diabetes mellitus?:Diabetes mellitus, ...</td>\n",
       "    </tr>\n",
       "    <tr>\n",
       "      <th>1</th>\n",
       "      <td>&lt;s&gt;[INST] What are the classic symptoms of dia...</td>\n",
       "      <td>What are the classic symptoms of diabetes?:Cla...</td>\n",
       "    </tr>\n",
       "    <tr>\n",
       "      <th>2</th>\n",
       "      <td>&lt;s&gt;[INST] What are the major types of diabetes...</td>\n",
       "      <td>What are the major types of diabetes?:The majo...</td>\n",
       "    </tr>\n",
       "    <tr>\n",
       "      <th>3</th>\n",
       "      <td>&lt;s&gt;[INST] What are the long-term complications...</td>\n",
       "      <td>What are the long-term complications of diabet...</td>\n",
       "    </tr>\n",
       "    <tr>\n",
       "      <th>4</th>\n",
       "      <td>&lt;s&gt;[INST] How is diabetes treated? [/INST] Typ...</td>\n",
       "      <td>How is diabetes treated?:Type 1 diabetes is co...</td>\n",
       "    </tr>\n",
       "  </tbody>\n",
       "</table>\n",
       "</div>"
      ],
      "text/plain": [
       "                                                text  \\\n",
       "0  <s>[INST] What is diabetes mellitus? [/INST] D...   \n",
       "1  <s>[INST] What are the classic symptoms of dia...   \n",
       "2  <s>[INST] What are the major types of diabetes...   \n",
       "3  <s>[INST] What are the long-term complications...   \n",
       "4  <s>[INST] How is diabetes treated? [/INST] Typ...   \n",
       "\n",
       "                                               final  \n",
       "0  What is diabetes mellitus?:Diabetes mellitus, ...  \n",
       "1  What are the classic symptoms of diabetes?:Cla...  \n",
       "2  What are the major types of diabetes?:The majo...  \n",
       "3  What are the long-term complications of diabet...  \n",
       "4  How is diabetes treated?:Type 1 diabetes is co...  "
      ]
     },
     "execution_count": 13,
     "metadata": {},
     "output_type": "execute_result"
    }
   ],
   "source": [
    "# Apply the function to the column\n",
    "data1[\"final\"] = data1[\"text\"].apply(format_question_answer)\n",
    "data1.head()"
   ]
  },
  {
   "cell_type": "code",
   "execution_count": 14,
   "id": "77c4aa49-30f1-45d9-88fa-0ab5c8bf6684",
   "metadata": {},
   "outputs": [
    {
     "data": {
      "text/plain": [
       "'What is diabetes mellitus?:Diabetes mellitus, often known simply as diabetes, is a group of common endocrine diseases characterized by sustained high blood sugar levels.'"
      ]
     },
     "execution_count": 14,
     "metadata": {},
     "output_type": "execute_result"
    }
   ],
   "source": [
    "data1[\"final\"].iloc[0]"
   ]
  },
  {
   "cell_type": "code",
   "execution_count": 16,
   "id": "56128c7b-c0b8-472b-8d06-6a56d2ee86c6",
   "metadata": {},
   "outputs": [
    {
     "data": {
      "text/html": [
       "<div>\n",
       "<style scoped>\n",
       "    .dataframe tbody tr th:only-of-type {\n",
       "        vertical-align: middle;\n",
       "    }\n",
       "\n",
       "    .dataframe tbody tr th {\n",
       "        vertical-align: top;\n",
       "    }\n",
       "\n",
       "    .dataframe thead th {\n",
       "        text-align: right;\n",
       "    }\n",
       "</style>\n",
       "<table border=\"1\" class=\"dataframe\">\n",
       "  <thead>\n",
       "    <tr style=\"text-align: right;\">\n",
       "      <th></th>\n",
       "      <th>combined</th>\n",
       "    </tr>\n",
       "  </thead>\n",
       "  <tbody>\n",
       "    <tr>\n",
       "      <th>0</th>\n",
       "      <td>What is diabetes mellitus?:Diabetes mellitus, ...</td>\n",
       "    </tr>\n",
       "    <tr>\n",
       "      <th>1</th>\n",
       "      <td>What are the classic symptoms of diabetes?:Cla...</td>\n",
       "    </tr>\n",
       "    <tr>\n",
       "      <th>2</th>\n",
       "      <td>What are the major types of diabetes?:The majo...</td>\n",
       "    </tr>\n",
       "    <tr>\n",
       "      <th>3</th>\n",
       "      <td>What are the long-term complications of diabet...</td>\n",
       "    </tr>\n",
       "    <tr>\n",
       "      <th>4</th>\n",
       "      <td>How is diabetes treated?:Type 1 diabetes is co...</td>\n",
       "    </tr>\n",
       "  </tbody>\n",
       "</table>\n",
       "</div>"
      ],
      "text/plain": [
       "                                            combined\n",
       "0  What is diabetes mellitus?:Diabetes mellitus, ...\n",
       "1  What are the classic symptoms of diabetes?:Cla...\n",
       "2  What are the major types of diabetes?:The majo...\n",
       "3  What are the long-term complications of diabet...\n",
       "4  How is diabetes treated?:Type 1 diabetes is co..."
      ]
     },
     "execution_count": 16,
     "metadata": {},
     "output_type": "execute_result"
    }
   ],
   "source": [
    "combined_col = pd.concat([data1[\"final\"], data2[\"final\"]], ignore_index=True)\n",
    "new_df = pd.DataFrame({\"combined\": combined_col})\n",
    "new_df.head()"
   ]
  },
  {
   "cell_type": "code",
   "execution_count": 17,
   "id": "debf6190-eeb3-49ed-8a8a-c909eed01f87",
   "metadata": {},
   "outputs": [
    {
     "data": {
      "text/plain": [
       "(143, 2)"
      ]
     },
     "execution_count": 17,
     "metadata": {},
     "output_type": "execute_result"
    }
   ],
   "source": [
    "data1.shape"
   ]
  },
  {
   "cell_type": "code",
   "execution_count": 18,
   "id": "bf98ec57-aa60-41ce-b4d8-f2c633f2fb3a",
   "metadata": {},
   "outputs": [
    {
     "data": {
      "text/plain": [
       "(1075, 3)"
      ]
     },
     "execution_count": 18,
     "metadata": {},
     "output_type": "execute_result"
    }
   ],
   "source": [
    "data2.shape"
   ]
  },
  {
   "cell_type": "code",
   "execution_count": 19,
   "id": "22b2353a-68d6-424f-9a8f-8557692f3b4a",
   "metadata": {},
   "outputs": [
    {
     "data": {
      "text/plain": [
       "(1218, 1)"
      ]
     },
     "execution_count": 19,
     "metadata": {},
     "output_type": "execute_result"
    }
   ],
   "source": [
    "new_df.shape"
   ]
  },
  {
   "cell_type": "code",
   "execution_count": 20,
   "id": "b56c6952-d838-46ad-8599-8827ec830945",
   "metadata": {},
   "outputs": [
    {
     "data": {
      "text/plain": [
       "1218"
      ]
     },
     "execution_count": 20,
     "metadata": {},
     "output_type": "execute_result"
    }
   ],
   "source": [
    "143 + 1075"
   ]
  },
  {
   "cell_type": "code",
   "execution_count": 22,
   "id": "953fa9f0-b840-4458-bde0-2ab163d71405",
   "metadata": {},
   "outputs": [],
   "source": [
    "new_df.to_csv(\"chatbot_dataset.txt\", index=False, header=False)"
   ]
  }
 ],
 "metadata": {
  "kernelspec": {
   "display_name": "Base",
   "language": "python",
   "name": "base"
  },
  "language_info": {
   "codemirror_mode": {
    "name": "ipython",
    "version": 3
   },
   "file_extension": ".py",
   "mimetype": "text/x-python",
   "name": "python",
   "nbconvert_exporter": "python",
   "pygments_lexer": "ipython3",
   "version": "3.9.19"
  }
 },
 "nbformat": 4,
 "nbformat_minor": 5
}
