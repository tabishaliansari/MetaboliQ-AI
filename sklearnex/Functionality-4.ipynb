{
 "cells": [
  {
   "cell_type": "markdown",
   "id": "c992ddb6-555b-4821-8f4c-b7a82eb0a411",
   "metadata": {},
   "source": [
    "# Machine Learning Algorithm - Decision Tree Classification"
   ]
  },
  {
   "cell_type": "markdown",
   "id": "8e0ff6dd-4abb-48db-ae67-21222bc8f183",
   "metadata": {},
   "source": [
    "# MetaboliQ AI\n",
    "### ~ by Mavericks\n",
    "### Functionality 4\n",
    "This Jupyter Notebook contains the Decision Tree Classifier for the first functionality of MetaboliQ AI.  \n",
    "Problem Statement: Predicting the gestational Diabetes in Women.\n",
    "\n",
    "Developed for:  \n",
    "  \n",
    "Individuals    \n",
    "Professionals  \n",
    "Ministry of Health    \n",
    "\n",
    "                                                           \n",
    "Output: Predicts the Gestational Diabetes in Women"
   ]
  },
  {
   "cell_type": "code",
   "execution_count": 3,
   "id": "a12b8b98-86bd-4596-83fb-9cef7ebdadcc",
   "metadata": {},
   "outputs": [],
   "source": [
    "import time\n",
    "start_time = time.time()"
   ]
  },
  {
   "cell_type": "code",
   "execution_count": 40,
   "id": "23a3b3d3-dbf4-4b2b-a117-20ac6911787a",
   "metadata": {},
   "outputs": [],
   "source": [
    "import pandas as pd\n",
    "import numpy as np\n",
    "import matplotlib.pyplot as plt\n",
    "import seaborn as sns\n",
    "from sklearnex import patch_sklearn\n",
    "from sklearn.model_selection import train_test_split\n",
    "from sklearn.tree import DecisionTreeClassifier\n",
    "from sklearn.metrics import accuracy_score, classification_report"
   ]
  },
  {
   "cell_type": "code",
   "execution_count": 5,
   "id": "76e2718b-4347-40ed-8ab2-8e0998c48f41",
   "metadata": {},
   "outputs": [
    {
     "name": "stderr",
     "output_type": "stream",
     "text": [
      "Intel(R) Extension for Scikit-learn* enabled (https://github.com/intel/scikit-learn-intelex)\n"
     ]
    }
   ],
   "source": [
    "patch_sklearn()"
   ]
  },
  {
   "cell_type": "code",
   "execution_count": 6,
   "id": "daaed702-7fef-4e6d-87d1-14bf102838f8",
   "metadata": {},
   "outputs": [],
   "source": [
    "data = pd.read_csv(\"gestational.csv\")"
   ]
  },
  {
   "cell_type": "code",
   "execution_count": 7,
   "id": "dcf9fde6-a655-48fd-aaf8-c9e63495fffc",
   "metadata": {},
   "outputs": [
    {
     "data": {
      "text/html": [
       "<div>\n",
       "<style scoped>\n",
       "    .dataframe tbody tr th:only-of-type {\n",
       "        vertical-align: middle;\n",
       "    }\n",
       "\n",
       "    .dataframe tbody tr th {\n",
       "        vertical-align: top;\n",
       "    }\n",
       "\n",
       "    .dataframe thead th {\n",
       "        text-align: right;\n",
       "    }\n",
       "</style>\n",
       "<table border=\"1\" class=\"dataframe\">\n",
       "  <thead>\n",
       "    <tr style=\"text-align: right;\">\n",
       "      <th></th>\n",
       "      <th>Age</th>\n",
       "      <th>Pregnancy No</th>\n",
       "      <th>Weight</th>\n",
       "      <th>Height</th>\n",
       "      <th>BMI</th>\n",
       "      <th>Heredity</th>\n",
       "      <th>Prediction</th>\n",
       "    </tr>\n",
       "  </thead>\n",
       "  <tbody>\n",
       "    <tr>\n",
       "      <th>0</th>\n",
       "      <td>17.0</td>\n",
       "      <td>1.0</td>\n",
       "      <td>48.0</td>\n",
       "      <td>165.0</td>\n",
       "      <td>17.6</td>\n",
       "      <td>0</td>\n",
       "      <td>0</td>\n",
       "    </tr>\n",
       "    <tr>\n",
       "      <th>1</th>\n",
       "      <td>17.0</td>\n",
       "      <td>1.0</td>\n",
       "      <td>49.0</td>\n",
       "      <td>145.0</td>\n",
       "      <td>23.3</td>\n",
       "      <td>0</td>\n",
       "      <td>0</td>\n",
       "    </tr>\n",
       "    <tr>\n",
       "      <th>2</th>\n",
       "      <td>17.0</td>\n",
       "      <td>1.0</td>\n",
       "      <td>50.0</td>\n",
       "      <td>140.0</td>\n",
       "      <td>25.5</td>\n",
       "      <td>0</td>\n",
       "      <td>0</td>\n",
       "    </tr>\n",
       "    <tr>\n",
       "      <th>3</th>\n",
       "      <td>17.0</td>\n",
       "      <td>1.0</td>\n",
       "      <td>50.0</td>\n",
       "      <td>145.0</td>\n",
       "      <td>23.8</td>\n",
       "      <td>0</td>\n",
       "      <td>0</td>\n",
       "    </tr>\n",
       "    <tr>\n",
       "      <th>4</th>\n",
       "      <td>17.0</td>\n",
       "      <td>1.0</td>\n",
       "      <td>49.0</td>\n",
       "      <td>146.0</td>\n",
       "      <td>23.0</td>\n",
       "      <td>0</td>\n",
       "      <td>0</td>\n",
       "    </tr>\n",
       "  </tbody>\n",
       "</table>\n",
       "</div>"
      ],
      "text/plain": [
       "    Age  Pregnancy No  Weight  Height   BMI  Heredity  Prediction\n",
       "0  17.0           1.0    48.0   165.0  17.6         0           0\n",
       "1  17.0           1.0    49.0   145.0  23.3         0           0\n",
       "2  17.0           1.0    50.0   140.0  25.5         0           0\n",
       "3  17.0           1.0    50.0   145.0  23.8         0           0\n",
       "4  17.0           1.0    49.0   146.0  23.0         0           0"
      ]
     },
     "execution_count": 7,
     "metadata": {},
     "output_type": "execute_result"
    }
   ],
   "source": [
    "data.head()"
   ]
  },
  {
   "cell_type": "markdown",
   "id": "c7d2c7ef-3c47-4b1a-ae68-917cc93bb8a9",
   "metadata": {},
   "source": [
    "# Exploratory Data Analysis"
   ]
  },
  {
   "cell_type": "code",
   "execution_count": 8,
   "id": "68db9241-ae2f-4253-aa54-32c8b3e1acf2",
   "metadata": {},
   "outputs": [
    {
     "data": {
      "text/plain": [
       "(1012, 7)"
      ]
     },
     "execution_count": 8,
     "metadata": {},
     "output_type": "execute_result"
    }
   ],
   "source": [
    "data.shape"
   ]
  },
  {
   "cell_type": "code",
   "execution_count": 9,
   "id": "a36bde50-d6de-4b59-a36b-b067a9bde058",
   "metadata": {},
   "outputs": [
    {
     "name": "stdout",
     "output_type": "stream",
     "text": [
      "<class 'pandas.core.frame.DataFrame'>\n",
      "RangeIndex: 1012 entries, 0 to 1011\n",
      "Data columns (total 7 columns):\n",
      " #   Column        Non-Null Count  Dtype  \n",
      "---  ------        --------------  -----  \n",
      " 0   Age           1012 non-null   float64\n",
      " 1   Pregnancy No  1012 non-null   float64\n",
      " 2   Weight        1012 non-null   float64\n",
      " 3   Height        1012 non-null   float64\n",
      " 4   BMI           1012 non-null   float64\n",
      " 5   Heredity      1012 non-null   int64  \n",
      " 6   Prediction    1012 non-null   int64  \n",
      "dtypes: float64(5), int64(2)\n",
      "memory usage: 55.5 KB\n"
     ]
    }
   ],
   "source": [
    "data.info()"
   ]
  },
  {
   "cell_type": "code",
   "execution_count": 10,
   "id": "287bc318-f426-496c-921d-9657704b3ffa",
   "metadata": {},
   "outputs": [
    {
     "data": {
      "text/html": [
       "<div>\n",
       "<style scoped>\n",
       "    .dataframe tbody tr th:only-of-type {\n",
       "        vertical-align: middle;\n",
       "    }\n",
       "\n",
       "    .dataframe tbody tr th {\n",
       "        vertical-align: top;\n",
       "    }\n",
       "\n",
       "    .dataframe thead th {\n",
       "        text-align: right;\n",
       "    }\n",
       "</style>\n",
       "<table border=\"1\" class=\"dataframe\">\n",
       "  <thead>\n",
       "    <tr style=\"text-align: right;\">\n",
       "      <th></th>\n",
       "      <th>count</th>\n",
       "      <th>mean</th>\n",
       "      <th>std</th>\n",
       "      <th>min</th>\n",
       "      <th>25%</th>\n",
       "      <th>50%</th>\n",
       "      <th>75%</th>\n",
       "      <th>max</th>\n",
       "    </tr>\n",
       "  </thead>\n",
       "  <tbody>\n",
       "    <tr>\n",
       "      <th>Age</th>\n",
       "      <td>1012.0</td>\n",
       "      <td>30.357708</td>\n",
       "      <td>7.022960</td>\n",
       "      <td>16.0</td>\n",
       "      <td>24.00</td>\n",
       "      <td>30.0</td>\n",
       "      <td>36.0</td>\n",
       "      <td>45.0</td>\n",
       "    </tr>\n",
       "    <tr>\n",
       "      <th>Pregnancy No</th>\n",
       "      <td>1012.0</td>\n",
       "      <td>2.517787</td>\n",
       "      <td>1.530656</td>\n",
       "      <td>1.0</td>\n",
       "      <td>1.00</td>\n",
       "      <td>2.0</td>\n",
       "      <td>3.0</td>\n",
       "      <td>9.0</td>\n",
       "    </tr>\n",
       "    <tr>\n",
       "      <th>Weight</th>\n",
       "      <td>1012.0</td>\n",
       "      <td>72.988142</td>\n",
       "      <td>12.552712</td>\n",
       "      <td>43.0</td>\n",
       "      <td>64.75</td>\n",
       "      <td>70.0</td>\n",
       "      <td>80.0</td>\n",
       "      <td>126.0</td>\n",
       "    </tr>\n",
       "    <tr>\n",
       "      <th>Height</th>\n",
       "      <td>1012.0</td>\n",
       "      <td>158.154150</td>\n",
       "      <td>7.367421</td>\n",
       "      <td>135.0</td>\n",
       "      <td>153.00</td>\n",
       "      <td>158.0</td>\n",
       "      <td>164.0</td>\n",
       "      <td>196.0</td>\n",
       "    </tr>\n",
       "    <tr>\n",
       "      <th>BMI</th>\n",
       "      <td>1012.0</td>\n",
       "      <td>29.256818</td>\n",
       "      <td>5.092321</td>\n",
       "      <td>16.0</td>\n",
       "      <td>25.70</td>\n",
       "      <td>28.9</td>\n",
       "      <td>32.0</td>\n",
       "      <td>54.3</td>\n",
       "    </tr>\n",
       "    <tr>\n",
       "      <th>Heredity</th>\n",
       "      <td>1012.0</td>\n",
       "      <td>0.226285</td>\n",
       "      <td>0.418632</td>\n",
       "      <td>0.0</td>\n",
       "      <td>0.00</td>\n",
       "      <td>0.0</td>\n",
       "      <td>0.0</td>\n",
       "      <td>1.0</td>\n",
       "    </tr>\n",
       "    <tr>\n",
       "      <th>Prediction</th>\n",
       "      <td>1012.0</td>\n",
       "      <td>0.214427</td>\n",
       "      <td>0.410627</td>\n",
       "      <td>0.0</td>\n",
       "      <td>0.00</td>\n",
       "      <td>0.0</td>\n",
       "      <td>0.0</td>\n",
       "      <td>1.0</td>\n",
       "    </tr>\n",
       "  </tbody>\n",
       "</table>\n",
       "</div>"
      ],
      "text/plain": [
       "               count        mean        std    min     25%    50%    75%  \\\n",
       "Age           1012.0   30.357708   7.022960   16.0   24.00   30.0   36.0   \n",
       "Pregnancy No  1012.0    2.517787   1.530656    1.0    1.00    2.0    3.0   \n",
       "Weight        1012.0   72.988142  12.552712   43.0   64.75   70.0   80.0   \n",
       "Height        1012.0  158.154150   7.367421  135.0  153.00  158.0  164.0   \n",
       "BMI           1012.0   29.256818   5.092321   16.0   25.70   28.9   32.0   \n",
       "Heredity      1012.0    0.226285   0.418632    0.0    0.00    0.0    0.0   \n",
       "Prediction    1012.0    0.214427   0.410627    0.0    0.00    0.0    0.0   \n",
       "\n",
       "                max  \n",
       "Age            45.0  \n",
       "Pregnancy No    9.0  \n",
       "Weight        126.0  \n",
       "Height        196.0  \n",
       "BMI            54.3  \n",
       "Heredity        1.0  \n",
       "Prediction      1.0  "
      ]
     },
     "execution_count": 10,
     "metadata": {},
     "output_type": "execute_result"
    }
   ],
   "source": [
    "data.describe().T"
   ]
  },
  {
   "cell_type": "code",
   "execution_count": 11,
   "id": "e1934dc2-7cbb-4521-9573-e60a94d1ba4a",
   "metadata": {},
   "outputs": [
    {
     "data": {
      "text/plain": [
       "Age             0\n",
       "Pregnancy No    0\n",
       "Weight          0\n",
       "Height          0\n",
       "BMI             0\n",
       "Heredity        0\n",
       "Prediction      0\n",
       "dtype: int64"
      ]
     },
     "execution_count": 11,
     "metadata": {},
     "output_type": "execute_result"
    }
   ],
   "source": [
    "data.isnull().sum()"
   ]
  },
  {
   "cell_type": "markdown",
   "id": "1a5d20c1-b4f0-4663-a8a5-7375c38ab72e",
   "metadata": {},
   "source": [
    "## Statistical Analysis"
   ]
  },
  {
   "cell_type": "code",
   "execution_count": 12,
   "id": "0829b0bc-a227-4514-bb73-addfad782a89",
   "metadata": {},
   "outputs": [
    {
     "data": {
      "text/plain": [
       "Age              30.357708\n",
       "Pregnancy No      2.517787\n",
       "Weight           72.988142\n",
       "Height          158.154150\n",
       "BMI              29.256818\n",
       "Heredity          0.226285\n",
       "Prediction        0.214427\n",
       "dtype: float64"
      ]
     },
     "execution_count": 12,
     "metadata": {},
     "output_type": "execute_result"
    }
   ],
   "source": [
    "data.mean()"
   ]
  },
  {
   "cell_type": "code",
   "execution_count": 13,
   "id": "15edd55c-0015-494f-af31-b35e256507b4",
   "metadata": {},
   "outputs": [
    {
     "data": {
      "text/plain": [
       "Age              30.0\n",
       "Pregnancy No      2.0\n",
       "Weight           70.0\n",
       "Height          158.0\n",
       "BMI              28.9\n",
       "Heredity          0.0\n",
       "Prediction        0.0\n",
       "dtype: float64"
      ]
     },
     "execution_count": 13,
     "metadata": {},
     "output_type": "execute_result"
    }
   ],
   "source": [
    "data.median()"
   ]
  },
  {
   "cell_type": "code",
   "execution_count": 14,
   "id": "b7804319-d63c-4ce0-84b0-0f6053150684",
   "metadata": {},
   "outputs": [
    {
     "data": {
      "text/plain": [
       "Age              49.321968\n",
       "Pregnancy No      2.342908\n",
       "Weight          157.570581\n",
       "Height           54.278885\n",
       "BMI              25.931734\n",
       "Heredity          0.175253\n",
       "Prediction        0.168615\n",
       "dtype: float64"
      ]
     },
     "execution_count": 14,
     "metadata": {},
     "output_type": "execute_result"
    }
   ],
   "source": [
    "data.var()"
   ]
  },
  {
   "cell_type": "code",
   "execution_count": 15,
   "id": "418cf0cc-ec34-4440-9ec9-71b6872419a7",
   "metadata": {},
   "outputs": [
    {
     "data": {
      "text/plain": [
       "Age              7.022960\n",
       "Pregnancy No     1.530656\n",
       "Weight          12.552712\n",
       "Height           7.367421\n",
       "BMI              5.092321\n",
       "Heredity         0.418632\n",
       "Prediction       0.410627\n",
       "dtype: float64"
      ]
     },
     "execution_count": 15,
     "metadata": {},
     "output_type": "execute_result"
    }
   ],
   "source": [
    "data.std()"
   ]
  },
  {
   "cell_type": "code",
   "execution_count": 16,
   "id": "4becac40-1aca-437c-88eb-35f2a16ae9f6",
   "metadata": {},
   "outputs": [
    {
     "data": {
      "text/html": [
       "<div>\n",
       "<style scoped>\n",
       "    .dataframe tbody tr th:only-of-type {\n",
       "        vertical-align: middle;\n",
       "    }\n",
       "\n",
       "    .dataframe tbody tr th {\n",
       "        vertical-align: top;\n",
       "    }\n",
       "\n",
       "    .dataframe thead th {\n",
       "        text-align: right;\n",
       "    }\n",
       "</style>\n",
       "<table border=\"1\" class=\"dataframe\">\n",
       "  <thead>\n",
       "    <tr style=\"text-align: right;\">\n",
       "      <th></th>\n",
       "      <th>Age</th>\n",
       "      <th>Pregnancy No</th>\n",
       "      <th>Weight</th>\n",
       "      <th>Height</th>\n",
       "      <th>BMI</th>\n",
       "      <th>Heredity</th>\n",
       "      <th>Prediction</th>\n",
       "    </tr>\n",
       "  </thead>\n",
       "  <tbody>\n",
       "    <tr>\n",
       "      <th>Age</th>\n",
       "      <td>49.321968</td>\n",
       "      <td>7.446648</td>\n",
       "      <td>48.994355</td>\n",
       "      <td>5.009098</td>\n",
       "      <td>17.943355</td>\n",
       "      <td>0.721152</td>\n",
       "      <td>0.982569</td>\n",
       "    </tr>\n",
       "    <tr>\n",
       "      <th>Pregnancy No</th>\n",
       "      <td>7.446648</td>\n",
       "      <td>2.342908</td>\n",
       "      <td>10.450261</td>\n",
       "      <td>1.031875</td>\n",
       "      <td>3.806258</td>\n",
       "      <td>0.178464</td>\n",
       "      <td>0.197468</td>\n",
       "    </tr>\n",
       "    <tr>\n",
       "      <th>Weight</th>\n",
       "      <td>48.994355</td>\n",
       "      <td>10.450261</td>\n",
       "      <td>157.570581</td>\n",
       "      <td>21.363847</td>\n",
       "      <td>54.847954</td>\n",
       "      <td>1.756395</td>\n",
       "      <td>2.108381</td>\n",
       "    </tr>\n",
       "    <tr>\n",
       "      <th>Height</th>\n",
       "      <td>5.009098</td>\n",
       "      <td>1.031875</td>\n",
       "      <td>21.363847</td>\n",
       "      <td>54.278885</td>\n",
       "      <td>-10.954465</td>\n",
       "      <td>-0.046786</td>\n",
       "      <td>-0.194313</td>\n",
       "    </tr>\n",
       "    <tr>\n",
       "      <th>BMI</th>\n",
       "      <td>17.943355</td>\n",
       "      <td>3.806258</td>\n",
       "      <td>54.847954</td>\n",
       "      <td>-10.954465</td>\n",
       "      <td>25.931734</td>\n",
       "      <td>0.736289</td>\n",
       "      <td>0.933205</td>\n",
       "    </tr>\n",
       "    <tr>\n",
       "      <th>Heredity</th>\n",
       "      <td>0.721152</td>\n",
       "      <td>0.178464</td>\n",
       "      <td>1.756395</td>\n",
       "      <td>-0.046786</td>\n",
       "      <td>0.736289</td>\n",
       "      <td>0.175253</td>\n",
       "      <td>0.087929</td>\n",
       "    </tr>\n",
       "    <tr>\n",
       "      <th>Prediction</th>\n",
       "      <td>0.982569</td>\n",
       "      <td>0.197468</td>\n",
       "      <td>2.108381</td>\n",
       "      <td>-0.194313</td>\n",
       "      <td>0.933205</td>\n",
       "      <td>0.087929</td>\n",
       "      <td>0.168615</td>\n",
       "    </tr>\n",
       "  </tbody>\n",
       "</table>\n",
       "</div>"
      ],
      "text/plain": [
       "                    Age  Pregnancy No      Weight     Height        BMI  \\\n",
       "Age           49.321968      7.446648   48.994355   5.009098  17.943355   \n",
       "Pregnancy No   7.446648      2.342908   10.450261   1.031875   3.806258   \n",
       "Weight        48.994355     10.450261  157.570581  21.363847  54.847954   \n",
       "Height         5.009098      1.031875   21.363847  54.278885 -10.954465   \n",
       "BMI           17.943355      3.806258   54.847954 -10.954465  25.931734   \n",
       "Heredity       0.721152      0.178464    1.756395  -0.046786   0.736289   \n",
       "Prediction     0.982569      0.197468    2.108381  -0.194313   0.933205   \n",
       "\n",
       "              Heredity  Prediction  \n",
       "Age           0.721152    0.982569  \n",
       "Pregnancy No  0.178464    0.197468  \n",
       "Weight        1.756395    2.108381  \n",
       "Height       -0.046786   -0.194313  \n",
       "BMI           0.736289    0.933205  \n",
       "Heredity      0.175253    0.087929  \n",
       "Prediction    0.087929    0.168615  "
      ]
     },
     "execution_count": 16,
     "metadata": {},
     "output_type": "execute_result"
    }
   ],
   "source": [
    "data.cov().T"
   ]
  },
  {
   "cell_type": "code",
   "execution_count": 17,
   "id": "99b68ee9-71bd-4dad-8e88-41938c34361f",
   "metadata": {},
   "outputs": [
    {
     "data": {
      "text/html": [
       "<div>\n",
       "<style scoped>\n",
       "    .dataframe tbody tr th:only-of-type {\n",
       "        vertical-align: middle;\n",
       "    }\n",
       "\n",
       "    .dataframe tbody tr th {\n",
       "        vertical-align: top;\n",
       "    }\n",
       "\n",
       "    .dataframe thead th {\n",
       "        text-align: right;\n",
       "    }\n",
       "</style>\n",
       "<table border=\"1\" class=\"dataframe\">\n",
       "  <thead>\n",
       "    <tr style=\"text-align: right;\">\n",
       "      <th></th>\n",
       "      <th>Age</th>\n",
       "      <th>Pregnancy No</th>\n",
       "      <th>Weight</th>\n",
       "      <th>Height</th>\n",
       "      <th>BMI</th>\n",
       "      <th>Heredity</th>\n",
       "      <th>Prediction</th>\n",
       "    </tr>\n",
       "  </thead>\n",
       "  <tbody>\n",
       "    <tr>\n",
       "      <th>Age</th>\n",
       "      <td>1.000000</td>\n",
       "      <td>0.692728</td>\n",
       "      <td>0.555761</td>\n",
       "      <td>0.096811</td>\n",
       "      <td>0.501727</td>\n",
       "      <td>0.245287</td>\n",
       "      <td>0.340718</td>\n",
       "    </tr>\n",
       "    <tr>\n",
       "      <th>Pregnancy No</th>\n",
       "      <td>0.692728</td>\n",
       "      <td>1.000000</td>\n",
       "      <td>0.543891</td>\n",
       "      <td>0.091503</td>\n",
       "      <td>0.488320</td>\n",
       "      <td>0.278509</td>\n",
       "      <td>0.314175</td>\n",
       "    </tr>\n",
       "    <tr>\n",
       "      <th>Weight</th>\n",
       "      <td>0.555761</td>\n",
       "      <td>0.543891</td>\n",
       "      <td>1.000000</td>\n",
       "      <td>0.231008</td>\n",
       "      <td>0.858039</td>\n",
       "      <td>0.334235</td>\n",
       "      <td>0.409038</td>\n",
       "    </tr>\n",
       "    <tr>\n",
       "      <th>Height</th>\n",
       "      <td>0.096811</td>\n",
       "      <td>0.091503</td>\n",
       "      <td>0.231008</td>\n",
       "      <td>1.000000</td>\n",
       "      <td>-0.291985</td>\n",
       "      <td>-0.015169</td>\n",
       "      <td>-0.064230</td>\n",
       "    </tr>\n",
       "    <tr>\n",
       "      <th>BMI</th>\n",
       "      <td>0.501727</td>\n",
       "      <td>0.488320</td>\n",
       "      <td>0.858039</td>\n",
       "      <td>-0.291985</td>\n",
       "      <td>1.000000</td>\n",
       "      <td>0.345382</td>\n",
       "      <td>0.446287</td>\n",
       "    </tr>\n",
       "    <tr>\n",
       "      <th>Heredity</th>\n",
       "      <td>0.245287</td>\n",
       "      <td>0.278509</td>\n",
       "      <td>0.334235</td>\n",
       "      <td>-0.015169</td>\n",
       "      <td>0.345382</td>\n",
       "      <td>1.000000</td>\n",
       "      <td>0.511507</td>\n",
       "    </tr>\n",
       "    <tr>\n",
       "      <th>Prediction</th>\n",
       "      <td>0.340718</td>\n",
       "      <td>0.314175</td>\n",
       "      <td>0.409038</td>\n",
       "      <td>-0.064230</td>\n",
       "      <td>0.446287</td>\n",
       "      <td>0.511507</td>\n",
       "      <td>1.000000</td>\n",
       "    </tr>\n",
       "  </tbody>\n",
       "</table>\n",
       "</div>"
      ],
      "text/plain": [
       "                   Age  Pregnancy No    Weight    Height       BMI  Heredity  \\\n",
       "Age           1.000000      0.692728  0.555761  0.096811  0.501727  0.245287   \n",
       "Pregnancy No  0.692728      1.000000  0.543891  0.091503  0.488320  0.278509   \n",
       "Weight        0.555761      0.543891  1.000000  0.231008  0.858039  0.334235   \n",
       "Height        0.096811      0.091503  0.231008  1.000000 -0.291985 -0.015169   \n",
       "BMI           0.501727      0.488320  0.858039 -0.291985  1.000000  0.345382   \n",
       "Heredity      0.245287      0.278509  0.334235 -0.015169  0.345382  1.000000   \n",
       "Prediction    0.340718      0.314175  0.409038 -0.064230  0.446287  0.511507   \n",
       "\n",
       "              Prediction  \n",
       "Age             0.340718  \n",
       "Pregnancy No    0.314175  \n",
       "Weight          0.409038  \n",
       "Height         -0.064230  \n",
       "BMI             0.446287  \n",
       "Heredity        0.511507  \n",
       "Prediction      1.000000  "
      ]
     },
     "execution_count": 17,
     "metadata": {},
     "output_type": "execute_result"
    }
   ],
   "source": [
    "data.corr().T"
   ]
  },
  {
   "cell_type": "markdown",
   "id": "109368fa-744a-402c-93f0-505d3f744a8c",
   "metadata": {},
   "source": [
    "## Outlier Detection and Removal"
   ]
  },
  {
   "cell_type": "code",
   "execution_count": 18,
   "id": "808eab7c-72cb-445c-8c14-08db3e4640cc",
   "metadata": {},
   "outputs": [
    {
     "data": {
      "image/png": "[encoded data removed]",
      "text/plain": [
       "<Figure size 600x400 with 1 Axes>"
      ]
     },
     "metadata": {},
     "output_type": "display_data"
    },
    {
     "data": {
      "image/png": "[encoded data removed]",
      "text/plain": [
       "<Figure size 600x400 with 1 Axes>"
      ]
     },
     "metadata": {},
     "output_type": "display_data"
    },
    {
     "data": {
      "image/png": "[encoded data removed]",
      "text/plain": [
       "<Figure size 600x400 with 1 Axes>"
      ]
     },
     "metadata": {},
     "output_type": "display_data"
    },
    {
     "data": {
      "image/png": "[encoded data removed]",
      "text/plain": [
       "<Figure size 600x400 with 1 Axes>"
      ]
     },
     "metadata": {},
     "output_type": "display_data"
    },
    {
     "data": {
      "image/png": "[encoded data removed]",
      "text/plain": [
       "<Figure size 600x400 with 1 Axes>"
      ]
     },
     "metadata": {},
     "output_type": "display_data"
    },
    {
     "data": {
      "image/png": "[encoded data removed]",
      "text/plain": [
       "<Figure size 600x400 with 1 Axes>"
      ]
     },
     "metadata": {},
     "output_type": "display_data"
    },
    {
     "data": {
      "image/png": "[encoded data removed]",
      "text/plain": [
       "<Figure size 600x400 with 1 Axes>"
      ]
     },
     "metadata": {},
     "output_type": "display_data"
    },
    {
     "data": {
      "text/plain": [
       "<Figure size 640x480 with 0 Axes>"
      ]
     },
     "metadata": {},
     "output_type": "display_data"
    }
   ],
   "source": [
    "for col in data.columns:\n",
    "    plt.figure(figsize=(6, 4))\n",
    "    plt.boxplot(data[col])\n",
    "    plt.title(col)\n",
    "    plt.show()\n",
    "plt.tight_layout()"
   ]
  },
  {
   "cell_type": "code",
   "execution_count": 19,
   "id": "d13d84a1-3d57-4529-b3da-d16571624f83",
   "metadata": {},
   "outputs": [
    {
     "name": "stdout",
     "output_type": "stream",
     "text": [
      "Interquartile Range (IQR): 63.25\n",
      "Quartile Deviation: 31.625\n"
     ]
    }
   ],
   "source": [
    "Q1 = np.percentile(data, 25)\n",
    "Q3 = np.percentile(data, 75)\n",
    "IQR = Q3 - Q1\n",
    "\n",
    "# Calculate Quartile Deviation\n",
    "quartile_deviation = (Q3 - Q1) / 2\n",
    "\n",
    "print(\"Interquartile Range (IQR):\", IQR)\n",
    "print(\"Quartile Deviation:\", quartile_deviation)"
   ]
  },
  {
   "cell_type": "markdown",
   "id": "5137f58e-901d-43eb-ba05-46de1a2a9a1b",
   "metadata": {},
   "source": [
    "## Data Visualization"
   ]
  },
  {
   "cell_type": "code",
   "execution_count": 20,
   "id": "106efeba-0ca7-4311-a728-87fc0e1aeba5",
   "metadata": {},
   "outputs": [
    {
     "data": {
      "image/png": "[encoded data removed]",
      "text/plain": [
       "<Figure size 600x400 with 1 Axes>"
      ]
     },
     "metadata": {},
     "output_type": "display_data"
    }
   ],
   "source": [
    "plt.figure(figsize=(6, 4))\n",
    "plt.hist(data[\"Age\"])\n",
    "plt.title(col)\n",
    "plt.ylabel(\"No.of Women\")\n",
    "plt.xlabel(\"Age\")\n",
    "plt.show()"
   ]
  },
  {
   "cell_type": "code",
   "execution_count": 21,
   "id": "ffda2955-be3f-4efb-93cc-b6ec41976e4c",
   "metadata": {},
   "outputs": [
    {
     "data": {
      "text/plain": [
       "<Axes: >"
      ]
     },
     "execution_count": 21,
     "metadata": {},
     "output_type": "execute_result"
    },
    {
     "data": {
      "image/png": "[encoded data removed]",
      "text/plain": [
       "<Figure size 640x480 with 2 Axes>"
      ]
     },
     "metadata": {},
     "output_type": "display_data"
    }
   ],
   "source": [
    "sns.heatmap(data.corr())"
   ]
  },
  {
   "cell_type": "markdown",
   "id": "f4ec5995-0f35-42ce-b9bd-72eaeb60bc74",
   "metadata": {},
   "source": [
    "# Model Building Using Decision Tree Classifier"
   ]
  },
  {
   "cell_type": "code",
   "execution_count": 22,
   "id": "1cc93e45-2b64-45bd-96fb-94be264109b6",
   "metadata": {},
   "outputs": [],
   "source": [
    "# Feature Selection\n",
    "features = data[['Age', 'Pregnancy No', 'Weight', 'Height', 'BMI', 'Heredity']].copy()"
   ]
  },
  {
   "cell_type": "code",
   "execution_count": 23,
   "id": "3d59af4f-d193-441c-af4f-d713492f554a",
   "metadata": {},
   "outputs": [],
   "source": [
    "#Target Variable\n",
    "target = data[[\"Prediction\"]].copy()"
   ]
  },
  {
   "cell_type": "code",
   "execution_count": 24,
   "id": "416e219d-29fb-4d86-9cd3-45183866e2cf",
   "metadata": {},
   "outputs": [],
   "source": [
    "#Creating the features(X) and target(y) variables.\n",
    "X = features\n",
    "y = target"
   ]
  },
  {
   "cell_type": "code",
   "execution_count": 38,
   "id": "58d106f8-96b3-48e1-a826-ff2302a86791",
   "metadata": {},
   "outputs": [
    {
     "name": "stdout",
     "output_type": "stream",
     "text": [
      "CPU times: user 6 μs, sys: 4 μs, total: 10 μs\n",
      "Wall time: 18.6 μs\n"
     ]
    }
   ],
   "source": [
    "#Standard train-test-split\n",
    "%time\n",
    "X_train, X_test, y_train, y_test = train_test_split(X, y, test_size=0.2, random_state=42)"
   ]
  },
  {
   "cell_type": "code",
   "execution_count": 37,
   "id": "a2c325ed-2ef2-41b4-8399-b455592bc3f6",
   "metadata": {},
   "outputs": [
    {
     "name": "stdout",
     "output_type": "stream",
     "text": [
      "CPU times: user 5 μs, sys: 3 μs, total: 8 μs\n",
      "Wall time: 16.7 μs\n"
     ]
    },
    {
     "data": {
      "text/html": [
       "<style>#sk-container-id-2 {\n",
       "  /* Definition of color scheme common for light and dark mode */\n",
       "  --sklearn-color-text: #000;\n",
       "  --sklearn-color-text-muted: #666;\n",
       "  --sklearn-color-line: gray;\n",
       "  /* Definition of color scheme for unfitted estimators */\n",
       "  --sklearn-color-unfitted-level-0: #fff5e6;\n",
       "  --sklearn-color-unfitted-level-1: #f6e4d2;\n",
       "  --sklearn-color-unfitted-level-2: #ffe0b3;\n",
       "  --sklearn-color-unfitted-level-3: chocolate;\n",
       "  /* Definition of color scheme for fitted estimators */\n",
       "  --sklearn-color-fitted-level-0: #f0f8ff;\n",
       "  --sklearn-color-fitted-level-1: #d4ebff;\n",
       "  --sklearn-color-fitted-level-2: #b3dbfd;\n",
       "  --sklearn-color-fitted-level-3: cornflowerblue;\n",
       "\n",
       "  /* Specific color for light theme */\n",
       "  --sklearn-color-text-on-default-background: var(--sg-text-color, var(--theme-code-foreground, var(--jp-content-font-color1, black)));\n",
       "  --sklearn-color-background: var(--sg-background-color, var(--theme-background, var(--jp-layout-color0, white)));\n",
       "  --sklearn-color-border-box: var(--sg-text-color, var(--theme-code-foreground, var(--jp-content-font-color1, black)));\n",
       "  --sklearn-color-icon: #696969;\n",
       "\n",
       "  @media (prefers-color-scheme: dark) {\n",
       "    /* Redefinition of color scheme for dark theme */\n",
       "    --sklearn-color-text-on-default-background: var(--sg-text-color, var(--theme-code-foreground, var(--jp-content-font-color1, white)));\n",
       "    --sklearn-color-background: var(--sg-background-color, var(--theme-background, var(--jp-layout-color0, #111)));\n",
       "    --sklearn-color-border-box: var(--sg-text-color, var(--theme-code-foreground, var(--jp-content-font-color1, white)));\n",
       "    --sklearn-color-icon: #878787;\n",
       "  }\n",
       "}\n",
       "\n",
       "#sk-container-id-2 {\n",
       "  color: var(--sklearn-color-text);\n",
       "}\n",
       "\n",
       "#sk-container-id-2 pre {\n",
       "  padding: 0;\n",
       "}\n",
       "\n",
       "#sk-container-id-2 input.sk-hidden--visually {\n",
       "  border: 0;\n",
       "  clip: rect(1px 1px 1px 1px);\n",
       "  clip: rect(1px, 1px, 1px, 1px);\n",
       "  height: 1px;\n",
       "  margin: -1px;\n",
       "  overflow: hidden;\n",
       "  padding: 0;\n",
       "  position: absolute;\n",
       "  width: 1px;\n",
       "}\n",
       "\n",
       "#sk-container-id-2 div.sk-dashed-wrapped {\n",
       "  border: 1px dashed var(--sklearn-color-line);\n",
       "  margin: 0 0.4em 0.5em 0.4em;\n",
       "  box-sizing: border-box;\n",
       "  padding-bottom: 0.4em;\n",
       "  background-color: var(--sklearn-color-background);\n",
       "}\n",
       "\n",
       "#sk-container-id-2 div.sk-container {\n",
       "  /* jupyter's `normalize.less` sets `[hidden] { display: none; }`\n",
       "     but bootstrap.min.css set `[hidden] { display: none !important; }`\n",
       "     so we also need the `!important` here to be able to override the\n",
       "     default hidden behavior on the sphinx rendered scikit-learn.org.\n",
       "     See: https://github.com/scikit-learn/scikit-learn/issues/21755 */\n",
       "  display: inline-block !important;\n",
       "  position: relative;\n",
       "}\n",
       "\n",
       "#sk-container-id-2 div.sk-text-repr-fallback {\n",
       "  display: none;\n",
       "}\n",
       "\n",
       "div.sk-parallel-item,\n",
       "div.sk-serial,\n",
       "div.sk-item {\n",
       "  /* draw centered vertical line to link estimators */\n",
       "  background-image: linear-gradient(var(--sklearn-color-text-on-default-background), var(--sklearn-color-text-on-default-background));\n",
       "  background-size: 2px 100%;\n",
       "  background-repeat: no-repeat;\n",
       "  background-position: center center;\n",
       "}\n",
       "\n",
       "/* Parallel-specific style estimator block */\n",
       "\n",
       "#sk-container-id-2 div.sk-parallel-item::after {\n",
       "  content: \"\";\n",
       "  width: 100%;\n",
       "  border-bottom: 2px solid var(--sklearn-color-text-on-default-background);\n",
       "  flex-grow: 1;\n",
       "}\n",
       "\n",
       "#sk-container-id-2 div.sk-parallel {\n",
       "  display: flex;\n",
       "  align-items: stretch;\n",
       "  justify-content: center;\n",
       "  background-color: var(--sklearn-color-background);\n",
       "  position: relative;\n",
       "}\n",
       "\n",
       "#sk-container-id-2 div.sk-parallel-item {\n",
       "  display: flex;\n",
       "  flex-direction: column;\n",
       "}\n",
       "\n",
       "#sk-container-id-2 div.sk-parallel-item:first-child::after {\n",
       "  align-self: flex-end;\n",
       "  width: 50%;\n",
       "}\n",
       "\n",
       "#sk-container-id-2 div.sk-parallel-item:last-child::after {\n",
       "  align-self: flex-start;\n",
       "  width: 50%;\n",
       "}\n",
       "\n",
       "#sk-container-id-2 div.sk-parallel-item:only-child::after {\n",
       "  width: 0;\n",
       "}\n",
       "\n",
       "/* Serial-specific style estimator block */\n",
       "\n",
       "#sk-container-id-2 div.sk-serial {\n",
       "  display: flex;\n",
       "  flex-direction: column;\n",
       "  align-items: center;\n",
       "  background-color: var(--sklearn-color-background);\n",
       "  padding-right: 1em;\n",
       "  padding-left: 1em;\n",
       "}\n",
       "\n",
       "\n",
       "/* Toggleable style: style used for estimator/Pipeline/ColumnTransformer box that is\n",
       "clickable and can be expanded/collapsed.\n",
       "- Pipeline and ColumnTransformer use this feature and define the default style\n",
       "- Estimators will overwrite some part of the style using the `sk-estimator` class\n",
       "*/\n",
       "\n",
       "/* Pipeline and ColumnTransformer style (default) */\n",
       "\n",
       "#sk-container-id-2 div.sk-toggleable {\n",
       "  /* Default theme specific background. It is overwritten whether we have a\n",
       "  specific estimator or a Pipeline/ColumnTransformer */\n",
       "  background-color: var(--sklearn-color-background);\n",
       "}\n",
       "\n",
       "/* Toggleable label */\n",
       "#sk-container-id-2 label.sk-toggleable__label {\n",
       "  cursor: pointer;\n",
       "  display: flex;\n",
       "  width: 100%;\n",
       "  margin-bottom: 0;\n",
       "  padding: 0.5em;\n",
       "  box-sizing: border-box;\n",
       "  text-align: center;\n",
       "  align-items: start;\n",
       "  justify-content: space-between;\n",
       "  gap: 0.5em;\n",
       "}\n",
       "\n",
       "#sk-container-id-2 label.sk-toggleable__label .caption {\n",
       "  font-size: 0.6rem;\n",
       "  font-weight: lighter;\n",
       "  color: var(--sklearn-color-text-muted);\n",
       "}\n",
       "\n",
       "#sk-container-id-2 label.sk-toggleable__label-arrow:before {\n",
       "  /* Arrow on the left of the label */\n",
       "  content: \"▸\";\n",
       "  float: left;\n",
       "  margin-right: 0.25em;\n",
       "  color: var(--sklearn-color-icon);\n",
       "}\n",
       "\n",
       "#sk-container-id-2 label.sk-toggleable__label-arrow:hover:before {\n",
       "  color: var(--sklearn-color-text);\n",
       "}\n",
       "\n",
       "/* Toggleable content - dropdown */\n",
       "\n",
       "#sk-container-id-2 div.sk-toggleable__content {\n",
       "  max-height: 0;\n",
       "  max-width: 0;\n",
       "  overflow: hidden;\n",
       "  text-align: left;\n",
       "  /* unfitted */\n",
       "  background-color: var(--sklearn-color-unfitted-level-0);\n",
       "}\n",
       "\n",
       "#sk-container-id-2 div.sk-toggleable__content.fitted {\n",
       "  /* fitted */\n",
       "  background-color: var(--sklearn-color-fitted-level-0);\n",
       "}\n",
       "\n",
       "#sk-container-id-2 div.sk-toggleable__content pre {\n",
       "  margin: 0.2em;\n",
       "  border-radius: 0.25em;\n",
       "  color: var(--sklearn-color-text);\n",
       "  /* unfitted */\n",
       "  background-color: var(--sklearn-color-unfitted-level-0);\n",
       "}\n",
       "\n",
       "#sk-container-id-2 div.sk-toggleable__content.fitted pre {\n",
       "  /* unfitted */\n",
       "  background-color: var(--sklearn-color-fitted-level-0);\n",
       "}\n",
       "\n",
       "#sk-container-id-2 input.sk-toggleable__control:checked~div.sk-toggleable__content {\n",
       "  /* Expand drop-down */\n",
       "  max-height: 200px;\n",
       "  max-width: 100%;\n",
       "  overflow: auto;\n",
       "}\n",
       "\n",
       "#sk-container-id-2 input.sk-toggleable__control:checked~label.sk-toggleable__label-arrow:before {\n",
       "  content: \"▾\";\n",
       "}\n",
       "\n",
       "/* Pipeline/ColumnTransformer-specific style */\n",
       "\n",
       "#sk-container-id-2 div.sk-label input.sk-toggleable__control:checked~label.sk-toggleable__label {\n",
       "  color: var(--sklearn-color-text);\n",
       "  background-color: var(--sklearn-color-unfitted-level-2);\n",
       "}\n",
       "\n",
       "#sk-container-id-2 div.sk-label.fitted input.sk-toggleable__control:checked~label.sk-toggleable__label {\n",
       "  background-color: var(--sklearn-color-fitted-level-2);\n",
       "}\n",
       "\n",
       "/* Estimator-specific style */\n",
       "\n",
       "/* Colorize estimator box */\n",
       "#sk-container-id-2 div.sk-estimator input.sk-toggleable__control:checked~label.sk-toggleable__label {\n",
       "  /* unfitted */\n",
       "  background-color: var(--sklearn-color-unfitted-level-2);\n",
       "}\n",
       "\n",
       "#sk-container-id-2 div.sk-estimator.fitted input.sk-toggleable__control:checked~label.sk-toggleable__label {\n",
       "  /* fitted */\n",
       "  background-color: var(--sklearn-color-fitted-level-2);\n",
       "}\n",
       "\n",
       "#sk-container-id-2 div.sk-label label.sk-toggleable__label,\n",
       "#sk-container-id-2 div.sk-label label {\n",
       "  /* The background is the default theme color */\n",
       "  color: var(--sklearn-color-text-on-default-background);\n",
       "}\n",
       "\n",
       "/* On hover, darken the color of the background */\n",
       "#sk-container-id-2 div.sk-label:hover label.sk-toggleable__label {\n",
       "  color: var(--sklearn-color-text);\n",
       "  background-color: var(--sklearn-color-unfitted-level-2);\n",
       "}\n",
       "\n",
       "/* Label box, darken color on hover, fitted */\n",
       "#sk-container-id-2 div.sk-label.fitted:hover label.sk-toggleable__label.fitted {\n",
       "  color: var(--sklearn-color-text);\n",
       "  background-color: var(--sklearn-color-fitted-level-2);\n",
       "}\n",
       "\n",
       "/* Estimator label */\n",
       "\n",
       "#sk-container-id-2 div.sk-label label {\n",
       "  font-family: monospace;\n",
       "  font-weight: bold;\n",
       "  display: inline-block;\n",
       "  line-height: 1.2em;\n",
       "}\n",
       "\n",
       "#sk-container-id-2 div.sk-label-container {\n",
       "  text-align: center;\n",
       "}\n",
       "\n",
       "/* Estimator-specific */\n",
       "#sk-container-id-2 div.sk-estimator {\n",
       "  font-family: monospace;\n",
       "  border: 1px dotted var(--sklearn-color-border-box);\n",
       "  border-radius: 0.25em;\n",
       "  box-sizing: border-box;\n",
       "  margin-bottom: 0.5em;\n",
       "  /* unfitted */\n",
       "  background-color: var(--sklearn-color-unfitted-level-0);\n",
       "}\n",
       "\n",
       "#sk-container-id-2 div.sk-estimator.fitted {\n",
       "  /* fitted */\n",
       "  background-color: var(--sklearn-color-fitted-level-0);\n",
       "}\n",
       "\n",
       "/* on hover */\n",
       "#sk-container-id-2 div.sk-estimator:hover {\n",
       "  /* unfitted */\n",
       "  background-color: var(--sklearn-color-unfitted-level-2);\n",
       "}\n",
       "\n",
       "#sk-container-id-2 div.sk-estimator.fitted:hover {\n",
       "  /* fitted */\n",
       "  background-color: var(--sklearn-color-fitted-level-2);\n",
       "}\n",
       "\n",
       "/* Specification for estimator info (e.g. \"i\" and \"?\") */\n",
       "\n",
       "/* Common style for \"i\" and \"?\" */\n",
       "\n",
       ".sk-estimator-doc-link,\n",
       "a:link.sk-estimator-doc-link,\n",
       "a:visited.sk-estimator-doc-link {\n",
       "  float: right;\n",
       "  font-size: smaller;\n",
       "  line-height: 1em;\n",
       "  font-family: monospace;\n",
       "  background-color: var(--sklearn-color-background);\n",
       "  border-radius: 1em;\n",
       "  height: 1em;\n",
       "  width: 1em;\n",
       "  text-decoration: none !important;\n",
       "  margin-left: 0.5em;\n",
       "  text-align: center;\n",
       "  /* unfitted */\n",
       "  border: var(--sklearn-color-unfitted-level-1) 1pt solid;\n",
       "  color: var(--sklearn-color-unfitted-level-1);\n",
       "}\n",
       "\n",
       ".sk-estimator-doc-link.fitted,\n",
       "a:link.sk-estimator-doc-link.fitted,\n",
       "a:visited.sk-estimator-doc-link.fitted {\n",
       "  /* fitted */\n",
       "  border: var(--sklearn-color-fitted-level-1) 1pt solid;\n",
       "  color: var(--sklearn-color-fitted-level-1);\n",
       "}\n",
       "\n",
       "/* On hover */\n",
       "div.sk-estimator:hover .sk-estimator-doc-link:hover,\n",
       ".sk-estimator-doc-link:hover,\n",
       "div.sk-label-container:hover .sk-estimator-doc-link:hover,\n",
       ".sk-estimator-doc-link:hover {\n",
       "  /* unfitted */\n",
       "  background-color: var(--sklearn-color-unfitted-level-3);\n",
       "  color: var(--sklearn-color-background);\n",
       "  text-decoration: none;\n",
       "}\n",
       "\n",
       "div.sk-estimator.fitted:hover .sk-estimator-doc-link.fitted:hover,\n",
       ".sk-estimator-doc-link.fitted:hover,\n",
       "div.sk-label-container:hover .sk-estimator-doc-link.fitted:hover,\n",
       ".sk-estimator-doc-link.fitted:hover {\n",
       "  /* fitted */\n",
       "  background-color: var(--sklearn-color-fitted-level-3);\n",
       "  color: var(--sklearn-color-background);\n",
       "  text-decoration: none;\n",
       "}\n",
       "\n",
       "/* Span, style for the box shown on hovering the info icon */\n",
       ".sk-estimator-doc-link span {\n",
       "  display: none;\n",
       "  z-index: 9999;\n",
       "  position: relative;\n",
       "  font-weight: normal;\n",
       "  right: .2ex;\n",
       "  padding: .5ex;\n",
       "  margin: .5ex;\n",
       "  width: min-content;\n",
       "  min-width: 20ex;\n",
       "  max-width: 50ex;\n",
       "  color: var(--sklearn-color-text);\n",
       "  box-shadow: 2pt 2pt 4pt #999;\n",
       "  /* unfitted */\n",
       "  background: var(--sklearn-color-unfitted-level-0);\n",
       "  border: .5pt solid var(--sklearn-color-unfitted-level-3);\n",
       "}\n",
       "\n",
       ".sk-estimator-doc-link.fitted span {\n",
       "  /* fitted */\n",
       "  background: var(--sklearn-color-fitted-level-0);\n",
       "  border: var(--sklearn-color-fitted-level-3);\n",
       "}\n",
       "\n",
       ".sk-estimator-doc-link:hover span {\n",
       "  display: block;\n",
       "}\n",
       "\n",
       "/* \"?\"-specific style due to the `<a>` HTML tag */\n",
       "\n",
       "#sk-container-id-2 a.estimator_doc_link {\n",
       "  float: right;\n",
       "  font-size: 1rem;\n",
       "  line-height: 1em;\n",
       "  font-family: monospace;\n",
       "  background-color: var(--sklearn-color-background);\n",
       "  border-radius: 1rem;\n",
       "  height: 1rem;\n",
       "  width: 1rem;\n",
       "  text-decoration: none;\n",
       "  /* unfitted */\n",
       "  color: var(--sklearn-color-unfitted-level-1);\n",
       "  border: var(--sklearn-color-unfitted-level-1) 1pt solid;\n",
       "}\n",
       "\n",
       "#sk-container-id-2 a.estimator_doc_link.fitted {\n",
       "  /* fitted */\n",
       "  border: var(--sklearn-color-fitted-level-1) 1pt solid;\n",
       "  color: var(--sklearn-color-fitted-level-1);\n",
       "}\n",
       "\n",
       "/* On hover */\n",
       "#sk-container-id-2 a.estimator_doc_link:hover {\n",
       "  /* unfitted */\n",
       "  background-color: var(--sklearn-color-unfitted-level-3);\n",
       "  color: var(--sklearn-color-background);\n",
       "  text-decoration: none;\n",
       "}\n",
       "\n",
       "#sk-container-id-2 a.estimator_doc_link.fitted:hover {\n",
       "  /* fitted */\n",
       "  background-color: var(--sklearn-color-fitted-level-3);\n",
       "}\n",
       "</style><div id=\"sk-container-id-2\" class=\"sk-top-container\"><div class=\"sk-text-repr-fallback\"><pre>DecisionTreeClassifier(max_depth=10, random_state=42)</pre><b>In a Jupyter environment, please rerun this cell to show the HTML representation or trust the notebook. <br />On GitHub, the HTML representation is unable to render, please try loading this page with nbviewer.org.</b></div><div class=\"sk-container\" hidden><div class=\"sk-item\"><div class=\"sk-estimator fitted sk-toggleable\"><input class=\"sk-toggleable__control sk-hidden--visually\" id=\"sk-estimator-id-2\" type=\"checkbox\" checked><label for=\"sk-estimator-id-2\" class=\"sk-toggleable__label fitted sk-toggleable__label-arrow\"><div><div>DecisionTreeClassifier</div></div><div><a class=\"sk-estimator-doc-link fitted\" rel=\"noreferrer\" target=\"_blank\" href=\"https://scikit-learn.org/1.6/modules/generated/sklearn.tree.DecisionTreeClassifier.html\">?<span>Documentation for DecisionTreeClassifier</span></a><span class=\"sk-estimator-doc-link fitted\">i<span>Fitted</span></span></div></label><div class=\"sk-toggleable__content fitted\"><pre>DecisionTreeClassifier(max_depth=10, random_state=42)</pre></div> </div></div></div></div>"
      ],
      "text/plain": [
       "DecisionTreeClassifier(max_depth=10, random_state=42)"
      ]
     },
     "execution_count": 37,
     "metadata": {},
     "output_type": "execute_result"
    }
   ],
   "source": [
    "#DTC Model training\n",
    "%time\n",
    "model = DecisionTreeClassifier(max_depth=10, random_state=42)\n",
    "model.fit(X_train, y_train)"
   ]
  },
  {
   "cell_type": "code",
   "execution_count": 36,
   "id": "8e21768c-8bea-4de0-9e6f-c79ed4117b72",
   "metadata": {},
   "outputs": [
    {
     "name": "stdout",
     "output_type": "stream",
     "text": [
      "CPU times: user 4 μs, sys: 3 μs, total: 7 μs\n",
      "Wall time: 13.6 μs\n",
      "[0 0 0 0 0 0 0 1 0 0 1 0 1 0 0 0 0 0 0 0 0 0 0 1 0 0 1 0 0 0 0 0 0 0 1 0 0\n",
      " 0 0 0 0 0 1 1 0 1 0 0 1 0 1 0 0 0 0 1 0 0 0 0 1 1 0 0 0 1 0 0 1 0 0 0 1 0\n",
      " 1 0 0 0 0 0 0 0 0 0 0 0 0 1 0 0 0 0 0 0 0 0 0 1 0 0 0 1 0 1 0 0 0 0 0 1 0\n",
      " 0 0 0 0 0 0 0 0 0 0 0 0 1 0 1 0 0 0 0 0 0 0 1 0 0 0 0 0 0 0 0 0 1 0 1 0 0\n",
      " 0 0 1 0 0 0 0 0 0 0 1 0 0 0 0 1 0 0 0 0 0 0 0 1 0 0 0 0 0 1 0 1 0 0 0 0 0\n",
      " 0 0 0 1 0 0 1 0 0 0 0 0 0 0 0 0 0 0]\n"
     ]
    }
   ],
   "source": [
    "#Model Testing\n",
    "%time\n",
    "y_pred = model.predict(X_test)\n",
    "print(y_pred)"
   ]
  },
  {
   "cell_type": "code",
   "execution_count": 39,
   "id": "ec04877e-fea4-4a18-82de-4e001f61855f",
   "metadata": {
    "scrolled": true
   },
   "outputs": [
    {
     "name": "stdout",
     "output_type": "stream",
     "text": [
      "CPU times: user 4 μs, sys: 2 μs, total: 6 μs\n",
      "Wall time: 12.6 μs\n",
      "Accuracy: 0.812807881773399\n",
      "\n",
      "Classification Report:\n",
      "               precision    recall  f1-score   support\n",
      "\n",
      "           0       0.84      0.92      0.88       153\n",
      "           1       0.67      0.48      0.56        50\n",
      "\n",
      "    accuracy                           0.81       203\n",
      "   macro avg       0.76      0.70      0.72       203\n",
      "weighted avg       0.80      0.81      0.80       203\n",
      "\n"
     ]
    }
   ],
   "source": [
    "# Model Evaluation\n",
    "%time\n",
    "print(\"Accuracy:\", accuracy_score(y_test, y_pred))\n",
    "print(\"\\nClassification Report:\\n\", classification_report(y_test, y_pred))"
   ]
  },
  {
   "cell_type": "code",
   "execution_count": 29,
   "id": "db25aa7a-3268-4163-bae3-c1ab0e5e9c46",
   "metadata": {},
   "outputs": [
    {
     "name": "stdout",
     "output_type": "stream",
     "text": [
      "Please enter the following details: \n",
      "Age : "
     ]
    },
    {
     "name": "stdin",
     "output_type": "stream",
     "text": [
      " 25\n"
     ]
    },
    {
     "name": "stdout",
     "output_type": "stream",
     "text": [
      "Pregnancy No : "
     ]
    },
    {
     "name": "stdin",
     "output_type": "stream",
     "text": [
      " 1\n"
     ]
    },
    {
     "name": "stdout",
     "output_type": "stream",
     "text": [
      "Weight : "
     ]
    },
    {
     "name": "stdin",
     "output_type": "stream",
     "text": [
      " 70\n"
     ]
    },
    {
     "name": "stdout",
     "output_type": "stream",
     "text": [
      "Height : "
     ]
    },
    {
     "name": "stdin",
     "output_type": "stream",
     "text": [
      " 153\n"
     ]
    },
    {
     "name": "stdout",
     "output_type": "stream",
     "text": [
      "BMI : "
     ]
    },
    {
     "name": "stdin",
     "output_type": "stream",
     "text": [
      " 20\n"
     ]
    },
    {
     "name": "stdout",
     "output_type": "stream",
     "text": [
      "Heredity : "
     ]
    },
    {
     "name": "stdin",
     "output_type": "stream",
     "text": [
      " 1\n"
     ]
    }
   ],
   "source": [
    "questions = ['Age', 'Pregnancy No', 'Weight', 'Height', 'BMI', 'Heredity']\n",
    "answers = []\n",
    "print(\"Please enter the following details: \")\n",
    "for i in questions:\n",
    "    print(i, \": \", end=\"\")\n",
    "    temp = float(input())\n",
    "    answers.append(temp)\n",
    "\n",
    "report = {}\n",
    "\n",
    "for key in questions:\n",
    "    for value in answers:\n",
    "        report[key] = value\n",
    "        answers.remove(value)\n",
    "        break"
   ]
  },
  {
   "cell_type": "code",
   "execution_count": 30,
   "id": "3c46a6fc-0434-4067-8ddd-595078aedc7a",
   "metadata": {},
   "outputs": [
    {
     "name": "stdout",
     "output_type": "stream",
     "text": [
      "Gestational Diabetes Predicted.\n"
     ]
    }
   ],
   "source": [
    "# Convert dictionary(report) to DataFrame(patient_df)\n",
    "patient_df = pd.DataFrame([report])\n",
    "\n",
    "# Make a prediction\n",
    "prediction = model.predict(patient_df)\n",
    "\n",
    "# Display the result\n",
    "if prediction[0] == 0:\n",
    "    print(\"The patient is healthy.\")\n",
    "else:\n",
    "    print(\"Gestational Diabetes Predicted.\")"
   ]
  },
  {
   "cell_type": "code",
   "execution_count": 41,
   "id": "122f0ce5-d0a9-4c1a-bfc6-5907e31bf1ee",
   "metadata": {},
   "outputs": [
    {
     "name": "stdout",
     "output_type": "stream",
     "text": [
      "CPU times: user 4 μs, sys: 3 μs, total: 7 μs\n",
      "Wall time: 13.8 μs\n"
     ]
    },
    {
     "data": {
      "text/plain": [
       "['gestational.joblib']"
      ]
     },
     "execution_count": 41,
     "metadata": {},
     "output_type": "execute_result"
    }
   ],
   "source": [
    "#Extracting Model For Website Integration\n",
    "%time\n",
    "from joblib import dump\n",
    "dump(model, 'gestational.joblib')"
   ]
  },
  {
   "cell_type": "code",
   "execution_count": 32,
   "id": "8b8a46dc-d3fd-4f45-9c86-5cc688c451f5",
   "metadata": {},
   "outputs": [
    {
     "name": "stdout",
     "output_type": "stream",
     "text": [
      "Total Wall Time: 22.88 seconds\n"
     ]
    }
   ],
   "source": [
    "end_time = time.time()\n",
    "print(f\"Total Wall Time: {end_time - start_time:.2f} seconds\")"
   ]
  },
  {
   "cell_type": "markdown",
   "id": "9a43d591-58ed-48dc-89f2-1ac8c0762b96",
   "metadata": {},
   "source": [
    "# Terminated"
   ]
  }
 ],
 "metadata": {
  "kernelspec": {
   "display_name": "Base",
   "language": "python",
   "name": "base"
  },
  "language_info": {
   "codemirror_mode": {
    "name": "ipython",
    "version": 3
   },
   "file_extension": ".py",
   "mimetype": "text/x-python",
   "name": "python",
   "nbconvert_exporter": "python",
   "pygments_lexer": "ipython3",
   "version": "3.11.9"
  }
 },
 "nbformat": 4,
 "nbformat_minor": 5
}
